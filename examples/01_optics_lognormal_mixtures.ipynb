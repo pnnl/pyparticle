{
 "cells": [
  {
   "cell_type": "code",
   "execution_count": 1,
   "id": "21257e9f",
   "metadata": {},
   "outputs": [],
   "source": [
    "from pyparticle.population import build_population\n",
    "import numpy as np \n",
    "\n",
    "Ntot = 1e9\n",
    "GMD = 50e-9\n",
    "GSD = 1.6\n",
    "frac_BC = 0.2\n",
    "N_bins = 50 \n",
    "D_min = 1e-10\n",
    "D_max = 1e-2\n",
    "\n",
    "pop_cfg_internallyMixed = {\n",
    "    \"type\": \"binned_lognormals\",\n",
    "    \"N\": [Ntot],\n",
    "    \"GMD\": [GMD],\n",
    "    \"GSD\": [GSD],\n",
    "    \"aero_spec_names\": [[\"SO4\",\"BC\"]], # one population of internally mixed particles\n",
    "    \"aero_spec_fracs\": [[(1.-frac_BC), frac_BC]], # mass fraction of each species in each particle\n",
    "    \"N_bins\": N_bins,\n",
    "    \"D_min\": D_min,\n",
    "    \"D_max\": D_max,\n",
    "  }\n",
    "\n",
    "pop_cfg_externallyMixed = {\n",
    "    \"type\": \"binned_lognormals\",\n",
    "    # fixme: doen't quite conserve mass; this is quick check\n",
    "    \"N\": [Ntot*(1-frac_BC), Ntot*frac_BC], # sulfate and BC split into separate populations\n",
    "    \"GMD\": [GMD, GMD],\n",
    "    \"GSD\": [GSD, GSD],\n",
    "    \"aero_spec_names\": [[\"SO4\"], [\"BC\",\"SO4\"]], #one population of pure sulfate, one of pure BC\n",
    "    \"aero_spec_fracs\": [[1.0], [0.99,0.01]], # pure(ish) species\n",
    "    # \"aero_spec_names\": [[\"SO4\"], [\"BC\"]], #one population of pure sulfate, one of pure BC\n",
    "    # \"aero_spec_fracs\": [[1.0], [1.0]], # pure species\n",
    "    \"N_bins\": N_bins,\n",
    "    \"D_min\": D_min,\n",
    "    \"D_max\": D_max,\n",
    "  }\n",
    "\n",
    "\n",
    "pop_configs = [pop_cfg_internallyMixed, pop_cfg_externallyMixed]\n",
    "pop_int = build_population(pop_cfg_internallyMixed)\n",
    "pop_ext = build_population(pop_cfg_externallyMixed)\n",
    "\n",
    "\n",
    "# Lines\n",
    "\n"
   ]
  },
  {
   "cell_type": "code",
   "execution_count": null,
   "id": "5901c3c7",
   "metadata": {},
   "outputs": [
    {
     "ename": "ModuleNotFoundError",
     "evalue": "No module named 'PyParticle'",
     "output_type": "error",
     "traceback": [
      "\u001b[0;31m---------------------------------------------------------------------------\u001b[0m",
      "\u001b[0;31mModuleNotFoundError\u001b[0m                       Traceback (most recent call last)",
      "Cell \u001b[0;32mIn[2], line 1\u001b[0m\n\u001b[0;32m----> 1\u001b[0m \u001b[38;5;28;01mfrom\u001b[39;00m\u001b[38;5;250m \u001b[39m\u001b[38;5;21;01mPyParticle\u001b[39;00m\u001b[38;5;21;01m.\u001b[39;00m\u001b[38;5;21;01mviz\u001b[39;00m\u001b[38;5;21;01m.\u001b[39;00m\u001b[38;5;21;01mstyle\u001b[39;00m\u001b[38;5;250m \u001b[39m\u001b[38;5;28;01mimport\u001b[39;00m StyleManager, Theme\n\u001b[1;32m      2\u001b[0m \u001b[38;5;28;01mfrom\u001b[39;00m\u001b[38;5;250m \u001b[39m\u001b[38;5;21;01mPyParticle\u001b[39;00m\u001b[38;5;21;01m.\u001b[39;00m\u001b[38;5;21;01mviz\u001b[39;00m\u001b[38;5;21;01m.\u001b[39;00m\u001b[38;5;21;01mbuilder\u001b[39;00m\u001b[38;5;250m \u001b[39m\u001b[38;5;28;01mimport\u001b[39;00m build_plotter\n\u001b[1;32m      3\u001b[0m mgr \u001b[38;5;241m=\u001b[39m StyleManager(Theme(), deterministic\u001b[38;5;241m=\u001b[39m\u001b[38;5;28;01mFalse\u001b[39;00m)\n",
      "\u001b[0;31mModuleNotFoundError\u001b[0m: No module named 'PyParticle'"
     ]
    }
   ],
   "source": [
    "\n",
    "from pyparticle.viz.style import StyleManager, Theme\n",
    "from pyparticle.viz.builder import build_plotter\n",
    "mgr = StyleManager(Theme(), deterministic=False)\n",
    "\n",
    "series = [\n",
    "    {\"key\": \"int\", \"population\": pop_int, \"label\": \"Fully internal mixture\"},\n",
    "    {\"key\": \"ext\", \"population\": pop_ext, \"label\": \"Fully external mixture\"},\n",
    "]\n",
    "line_styles = mgr.plan(\"line\", [s[\"key\"] for s in series])\n",
    "\n",
    "import matplotlib.pyplot as plt\n",
    "from helpers.pymiescatt_comparison import pymiescatt_lognormal_optics\n",
    "\n",
    "varname = \"b_abs\"\n",
    "fig, ax = plt.subplots()\n",
    "for s in series:\n",
    "    cfg = {\n",
    "        \"varname\": varname,\n",
    "        \"var_cfg\": {\"morphology\":\"fractal\", \"wvl_grid\": np.linspace(350e-9,1050e-9,29), \"rh_grid\": [0.]},  # simple case: single x\n",
    "        \"style\": line_styles[s[\"key\"]],\n",
    "    }\n",
    "    plotter = build_plotter(\"state_line\", cfg)\n",
    "    plotter.plot(s[\"population\"], ax, label=s[\"label\"])\n",
    "    \n",
    "    cfg_rh = cfg.copy()\n",
    "    cfg_rh[\"var_cfg\"][\"rh_grid\"] = [0.95]\n",
    "    cfg_rh[\"style\"] = line_styles[s[\"key\"]].copy()\n",
    "    cfg_rh[\"style\"][\"linestyle\"] = \"--\"\n",
    "    cfg_rh[\"style\"][\"linewidth\"] = 2*cfg[\"style\"][\"linewidth\"]\n",
    "    plotter_rh50 = build_plotter(\"state_line\", cfg_rh)\n",
    "    plotter_rh50.plot(s[\"population\"], ax, label=s[\"label\"]+\" (RH=95%)\")\n",
    "\n",
    "ax.legend(); fig.tight_layout()"
   ]
  },
  {
   "cell_type": "code",
   "execution_count": null,
   "id": "fcac6eaa",
   "metadata": {},
   "outputs": [],
   "source": [
    "\n",
    "\n",
    "# problems: (2) need to force same RI for PyMieScatt/PyParticle calcs -- spec modifications? [I think this is ok: (1) effective RI seems wrong -- should be uniform; ]"
   ]
  },
  {
   "cell_type": "code",
   "execution_count": null,
   "id": "efb404ba",
   "metadata": {},
   "outputs": [],
   "source": []
  }
 ],
 "metadata": {
  "kernelspec": {
   "display_name": "pyparticle",
   "language": "python",
   "name": "python3"
  },
  "language_info": {
   "codemirror_mode": {
    "name": "ipython",
    "version": 3
   },
   "file_extension": ".py",
   "mimetype": "text/x-python",
   "name": "python",
   "nbconvert_exporter": "python",
   "pygments_lexer": "ipython3",
   "version": "3.9.23"
  }
 },
 "nbformat": 4,
 "nbformat_minor": 5
}
