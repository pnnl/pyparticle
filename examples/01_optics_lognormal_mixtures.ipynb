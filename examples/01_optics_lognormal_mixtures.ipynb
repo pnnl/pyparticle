{
 "cells": [
  {
   "cell_type": "code",
   "execution_count": 1,
   "id": "21257e9f",
   "metadata": {},
   "outputs": [
    {
     "name": "stderr",
     "output_type": "stream",
     "text": [
      "ERROR:tornado.general:Uncaught exception in ZMQStream callback\n",
      "Traceback (most recent call last):\n",
      "  File \"/Users/fier887/miniforge3/envs/pyparticle-partmc/lib/python3.9/site-packages/traitlets/traitlets.py\", line 632, in get\n",
      "    value = obj._trait_values[self.name]\n",
      "KeyError: '_control_lock'\n",
      "\n",
      "During handling of the above exception, another exception occurred:\n",
      "\n",
      "Traceback (most recent call last):\n",
      "  File \"/Users/fier887/miniforge3/envs/pyparticle-partmc/lib/python3.9/site-packages/zmq/eventloop/zmqstream.py\", line 565, in _log_error\n",
      "    f.result()\n",
      "  File \"/Users/fier887/miniforge3/envs/pyparticle-partmc/lib/python3.9/site-packages/ipykernel/kernelbase.py\", line 301, in dispatch_control\n",
      "    async with self._control_lock:\n",
      "  File \"/Users/fier887/miniforge3/envs/pyparticle-partmc/lib/python3.9/site-packages/traitlets/traitlets.py\", line 687, in __get__\n",
      "    return t.cast(G, self.get(obj, cls))  # the G should encode the Optional\n",
      "  File \"/Users/fier887/miniforge3/envs/pyparticle-partmc/lib/python3.9/site-packages/traitlets/traitlets.py\", line 649, in get\n",
      "    value = self._validate(obj, default)\n",
      "  File \"/Users/fier887/miniforge3/envs/pyparticle-partmc/lib/python3.9/site-packages/traitlets/traitlets.py\", line 722, in _validate\n",
      "    value = self.validate(obj, value)\n",
      "  File \"/Users/fier887/miniforge3/envs/pyparticle-partmc/lib/python3.9/site-packages/traitlets/traitlets.py\", line 2311, in validate\n",
      "    self.error(obj, value)\n",
      "  File \"/Users/fier887/miniforge3/envs/pyparticle-partmc/lib/python3.9/site-packages/traitlets/traitlets.py\", line 831, in error\n",
      "    raise TraitError(e)\n",
      "traitlets.traitlets.TraitError: The '_control_lock' trait of an IPythonKernel instance expected a Lock, not the NoneType None.\n"
     ]
    }
   ],
   "source": [
    "from PyParticle.population import build_population\n",
    "import numpy as np \n",
    "\n",
    "Ntot = 1e9\n",
    "GMD = 50e-9\n",
    "GSD = 1.6\n",
    "frac_BC = 0.2\n",
    "N_bins = 50 \n",
    "D_min = 1e-10\n",
    "D_max = 1e-2\n",
    "\n",
    "pop_cfg_internallyMixed = {\n",
    "    \"type\": \"binned_lognormals\",\n",
    "    \"N\": [Ntot],\n",
    "    \"GMD\": [GMD],\n",
    "    \"GSD\": [GSD],\n",
    "    \"aero_spec_names\": [[\"SO4\",\"BC\"]], # one population of internally mixed particles\n",
    "    \"aero_spec_fracs\": [[(1.-frac_BC), frac_BC]], # mass fraction of each species in each particle\n",
    "    \"N_bins\": N_bins,\n",
    "    \"D_min\": D_min,\n",
    "    \"D_max\": D_max,\n",
    "  }\n",
    "\n",
    "pop_cfg_externallyMixed = {\n",
    "    \"type\": \"binned_lognormals\",\n",
    "    \"N\": [Ntot*(1-frac_BC), Ntot*frac_BC], # sulfate and BC split into separate populations\n",
    "    \"GMD\": [GMD, GMD],\n",
    "    \"GSD\": [GSD, GSD],\n",
    "    \"aero_spec_names\": [[\"SO4\"], [\"BC\"]], #one population of pure sulfate, one of pure BC\n",
    "    \"aero_spec_fracs\": [[1.0], [1.0]], # pure species\n",
    "    \"N_bins\": N_bins,\n",
    "    \"D_min\": D_min,\n",
    "    \"D_max\": D_max,\n",
    "  }\n",
    "\n",
    "\n",
    "pop_configs = [pop_cfg_internallyMixed, pop_cfg_externallyMixed]\n",
    "pop_int = build_population(pop_cfg_internallyMixed)\n",
    "pop_ext = build_population(pop_cfg_externallyMixed)\n",
    "\n",
    "\n",
    "# Lines\n",
    "\n"
   ]
  },
  {
   "cell_type": "code",
   "execution_count": null,
   "id": "5901c3c7",
   "metadata": {},
   "outputs": [
    {
     "ename": "SyntaxError",
     "evalue": "invalid syntax (3376360310.py, line 29)",
     "output_type": "error",
     "traceback": [
      "\u001b[0;36m  Cell \u001b[0;32mIn[4], line 29\u001b[0;36m\u001b[0m\n\u001b[0;31m    cfg_rh50[]\u001b[0m\n\u001b[0m             ^\u001b[0m\n\u001b[0;31mSyntaxError\u001b[0m\u001b[0;31m:\u001b[0m invalid syntax\n"
     ]
    }
   ],
   "source": [
    "\n",
    "from PyParticle.viz.style import StyleManager, Theme\n",
    "from PyParticle.viz.builder import build_plotter\n",
    "mgr = StyleManager(Theme(), deterministic=False)\n",
    "\n",
    "series = [\n",
    "    {\"key\": \"int\", \"population\": pop_int, \"label\": \"Fully internal mixture\"},\n",
    "    {\"key\": \"ext\", \"population\": pop_ext, \"label\": \"Fully external mixture\"},\n",
    "]\n",
    "line_styles = mgr.plan(\"line\", [s[\"key\"] for s in series])\n",
    "\n",
    "import matplotlib.pyplot as plt\n",
    "from helpers.pymiescatt_comparison import pymiescatt_lognormal_optics\n",
    "\n",
    "varname = \"b_abs\"\n",
    "fig, ax = plt.subplots()\n",
    "for s in series:\n",
    "    cfg = {\n",
    "        \"varname\": varname,\n",
    "        \"var_cfg\": {\"morphology\":\"homogeneous\", \"wvl_grid\": np.linspace(350e-9,1050e-9,29), \"rh_grid\": [0.]},  # simple case: single x\n",
    "        \"style\": line_styles[s[\"key\"]],\n",
    "    }\n",
    "    plotter = build_plotter(\"state_line\", cfg)\n",
    "    plotter.plot(s[\"population\"], ax, label=s[\"label\"])\n",
    "    \n",
    "    cfg_rh = cfg.copy()\n",
    "    cfg_rh[\"var_cfg\"][\"rh_grid\"] = [0.95]\n",
    "    cfg_rh[\"style\"] = line_styles[s[\"key\"]].copy()\n",
    "    cfg_rh[\"style\"][\"linestyle\"] = \"--\"\n",
    "    cfg_rh[\"style\"][\"linewidth\"] = 2*cfg[\"style\"][\"linewidth\"]\n",
    "    plotter_rh50 = build_plotter(\"state_line\", cfg_rh)\n",
    "    plotter_rh50.plot(s[\"population\"], ax, label=s[\"label\"]+\" (RH=95%)\")\n",
    "\n",
    "ax.legend(); fig.tight_layout()"
   ]
  },
  {
   "cell_type": "code",
   "execution_count": 3,
   "id": "fcac6eaa",
   "metadata": {},
   "outputs": [],
   "source": [
    "\n",
    "\n",
    "# problems: (2) need to force same RI for PyMieScatt/PyParticle calcs -- spec modifications? [I think this is ok: (1) effective RI seems wrong -- should be uniform; ]"
   ]
  },
  {
   "cell_type": "code",
   "execution_count": null,
   "id": "efb404ba",
   "metadata": {},
   "outputs": [],
   "source": []
  }
 ],
 "metadata": {
  "kernelspec": {
   "display_name": "pyparticle-partmc",
   "language": "python",
   "name": "python3"
  },
  "language_info": {
   "codemirror_mode": {
    "name": "ipython",
    "version": 3
   },
   "file_extension": ".py",
   "mimetype": "text/x-python",
   "name": "python",
   "nbconvert_exporter": "python",
   "pygments_lexer": "ipython3",
   "version": "3.9.23"
  }
 },
 "nbformat": 4,
 "nbformat_minor": 5
}
