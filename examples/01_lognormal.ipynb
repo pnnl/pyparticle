{
 "cells": [
  {
   "cell_type": "code",
   "execution_count": null,
   "id": "1bf31125",
   "metadata": {},
   "outputs": [],
   "source": []
  },
  {
   "cell_type": "code",
   "execution_count": null,
   "id": "21257e9f",
   "metadata": {},
   "outputs": [
    {
     "name": "stderr",
     "output_type": "stream",
     "text": [
      "ERROR:tornado.general:Uncaught exception in ZMQStream callback\n",
      "Traceback (most recent call last):\n",
      "  File \"/Users/fier887/miniforge3/envs/pyparticle-partmc/lib/python3.9/site-packages/traitlets/traitlets.py\", line 632, in get\n",
      "    value = obj._trait_values[self.name]\n",
      "KeyError: '_control_lock'\n",
      "\n",
      "During handling of the above exception, another exception occurred:\n",
      "\n",
      "Traceback (most recent call last):\n",
      "  File \"/Users/fier887/miniforge3/envs/pyparticle-partmc/lib/python3.9/site-packages/zmq/eventloop/zmqstream.py\", line 565, in _log_error\n",
      "    f.result()\n",
      "  File \"/Users/fier887/miniforge3/envs/pyparticle-partmc/lib/python3.9/site-packages/ipykernel/kernelbase.py\", line 301, in dispatch_control\n",
      "    async with self._control_lock:\n",
      "  File \"/Users/fier887/miniforge3/envs/pyparticle-partmc/lib/python3.9/site-packages/traitlets/traitlets.py\", line 687, in __get__\n",
      "    return t.cast(G, self.get(obj, cls))  # the G should encode the Optional\n",
      "  File \"/Users/fier887/miniforge3/envs/pyparticle-partmc/lib/python3.9/site-packages/traitlets/traitlets.py\", line 649, in get\n",
      "    value = self._validate(obj, default)\n",
      "  File \"/Users/fier887/miniforge3/envs/pyparticle-partmc/lib/python3.9/site-packages/traitlets/traitlets.py\", line 722, in _validate\n",
      "    value = self.validate(obj, value)\n",
      "  File \"/Users/fier887/miniforge3/envs/pyparticle-partmc/lib/python3.9/site-packages/traitlets/traitlets.py\", line 2311, in validate\n",
      "    self.error(obj, value)\n",
      "  File \"/Users/fier887/miniforge3/envs/pyparticle-partmc/lib/python3.9/site-packages/traitlets/traitlets.py\", line 831, in error\n",
      "    raise TraitError(e)\n",
      "traitlets.traitlets.TraitError: The '_control_lock' trait of an IPythonKernel instance expected a Lock, not the NoneType None.\n"
     ]
    }
   ],
   "source": [
    "from PyParticle.population import build_population\n",
    "pop_cfg_50nm = {\n",
    "    \"type\": \"binned_lognormals\",\n",
    "    \"N\": [1e7],\n",
    "    \"N_units\": \"m-3\",\n",
    "    \"GMD\": [50e-9],\n",
    "    \"GMD_units\": \"m\",\n",
    "    \"GSD\": [1.6],\n",
    "    \"aero_spec_names\": [[\"SO4\"]],\n",
    "    \"aero_spec_fracs\": [[1.0]],\n",
    "    \"N_bins\": 1000,\n",
    "    \"D_min\": 10e-9,\n",
    "    \"D_max\": 2e-6,\n",
    "    \"refractive_index\": [1.75, 0.44]\n",
    "  }\n",
    "\n",
    "pop_cfg_250nm = {\n",
    "    \"type\": \"binned_lognormals\",\n",
    "    \"N\": [1e9],\n",
    "    \"N_units\": \"m-3\",\n",
    "    \"GMD\": [50e-9],\n",
    "    \"GMD_units\": \"m\",\n",
    "    \"GSD\": [1.6],\n",
    "    \"aero_spec_names\": [[\"SO4\"]],\n",
    "    \"aero_spec_fracs\": [[1.0]],\n",
    "    \"N_bins\": 1000,\n",
    "    \"D_min\": 10e-9,\n",
    "    \"D_max\": 2e-6,\n",
    "    \"refractive_index\": [1.75, 0.44]\n",
    "  }\n",
    "\n",
    "pop_50nm = build_population(pop_cfg_50nm)\n",
    "pop_250nm = build_population(pop_cfg_250nm)"
   ]
  },
  {
   "cell_type": "code",
   "execution_count": null,
   "id": "5901c3c7",
   "metadata": {},
   "outputs": [
    {
     "name": "stdout",
     "output_type": "stream",
     "text": [
      "Discovered plotter types: ['state_line', 'state_scatter']\n",
      "Requested plotter type: state_line\n"
     ]
    },
    {
     "name": "stderr",
     "output_type": "stream",
     "text": [
      "/Users/fier887/Library/CloudStorage/OneDrive-PNNL/Code/PyParticle/src/PyParticle/aerosol_particle.py:272: UserWarning: Surface tension not implemented; returning default 0.072 N/m\n",
      "  warnings.warn(\"Surface tension not implemented; returning default 0.072 N/m\", UserWarning)\n"
     ]
    },
    {
     "name": "stdout",
     "output_type": "stream",
     "text": [
      "[ 0.01        0.01072267  0.01149757  0.01232847  0.01321941  0.01417474\n",
      "  0.01519911  0.01629751  0.01747528  0.01873817  0.02009233  0.02154435\n",
      "  0.0231013   0.02477076  0.02656088  0.02848036  0.03053856  0.03274549\n",
      "  0.03511192  0.03764936  0.04037017  0.04328761  0.04641589  0.04977024\n",
      "  0.05336699  0.05722368  0.06135907  0.06579332  0.07054802  0.07564633\n",
      "  0.08111308  0.0869749   0.09326033  0.1         0.10722672  0.1149757\n",
      "  0.12328467  0.13219411  0.14174742  0.15199111  0.16297508  0.17475284\n",
      "  0.18738174  0.2009233   0.21544347  0.23101297  0.24770764  0.26560878\n",
      "  0.28480359  0.30538555  0.32745492  0.35111917  0.37649358  0.40370173\n",
      "  0.43287613  0.46415888  0.49770236  0.53366992  0.57223677  0.61359073\n",
      "  0.65793322  0.70548023  0.75646333  0.81113083  0.869749    0.93260335\n",
      "  1.          1.07226722  1.149757    1.23284674  1.32194115  1.41747416\n",
      "  1.51991108  1.62975083  1.7475284   1.87381742  2.009233    2.15443469\n",
      "  2.3101297   2.47707636  2.65608778  2.84803587  3.05385551  3.27454916\n",
      "  3.51119173  3.76493581  4.03701726  4.32876128  4.64158883  4.97702356\n",
      "  5.33669923  5.72236766  6.13590727  6.57933225  7.05480231  7.56463328\n",
      "  8.11130831  8.69749003  9.32603347 10.        ] [0.00000000e+00 0.00000000e+00 0.00000000e+00 0.00000000e+00\n",
      " 0.00000000e+00 0.00000000e+00 0.00000000e+00 0.00000000e+00\n",
      " 0.00000000e+00 0.00000000e+00 0.00000000e+00 0.00000000e+00\n",
      " 0.00000000e+00 0.00000000e+00 0.00000000e+00 0.00000000e+00\n",
      " 0.00000000e+00 0.00000000e+00 0.00000000e+00 0.00000000e+00\n",
      " 0.00000000e+00 0.00000000e+00 0.00000000e+00 0.00000000e+00\n",
      " 0.00000000e+00 0.00000000e+00 0.00000000e+00 0.00000000e+00\n",
      " 1.78766470e+03 2.23103135e+04 4.83809229e+04 8.11693757e+04\n",
      " 1.19741642e+05 1.69558450e+05 2.30388609e+05 3.03926976e+05\n",
      " 3.87170421e+05 4.90607983e+05 6.12015793e+05 7.53096281e+05\n",
      " 9.06762831e+05 1.09047613e+06 1.29774507e+06 1.52926047e+06\n",
      " 1.77190085e+06 2.05100280e+06 2.35368148e+06 2.67865859e+06\n",
      " 3.00637735e+06 3.36907532e+06 3.74716029e+06 4.13735886e+06\n",
      " 4.51597053e+06 4.91913978e+06 5.32311711e+06 5.72387178e+06\n",
      " 6.09801783e+06 6.48136272e+06 6.85058220e+06 7.20265422e+06\n",
      " 7.51891317e+06 7.83069584e+06 8.11934627e+06 8.37127024e+06\n",
      " 8.61258322e+06 8.82949057e+06 9.01342135e+06 9.18460833e+06\n",
      " 9.33400387e+06 9.45708674e+06 9.56839364e+06 9.66270464e+06\n",
      " 9.73819631e+06 9.80453009e+06 9.85909939e+06 9.90153775e+06\n",
      " 9.93777113e+06 9.96541744e+06 9.98857730e+06 1.00000000e+07\n",
      " 1.00000000e+07 1.00000000e+07 1.00000000e+07 1.00000000e+07\n",
      " 1.00000000e+07 1.00000000e+07 1.00000000e+07 1.00000000e+07\n",
      " 1.00000000e+07 1.00000000e+07 1.00000000e+07 1.00000000e+07\n",
      " 1.00000000e+07 1.00000000e+07 1.00000000e+07 1.00000000e+07\n",
      " 1.00000000e+07 1.00000000e+07 1.00000000e+07 1.00000000e+07]\n"
     ]
    },
    {
     "ename": "AttributeError",
     "evalue": "Line2D.set() got an unexpected keyword argument 'cmap'",
     "output_type": "error",
     "traceback": [
      "\u001b[0;31m---------------------------------------------------------------------------\u001b[0m",
      "\u001b[0;31mAttributeError\u001b[0m                            Traceback (most recent call last)",
      "Cell \u001b[0;32mIn[2], line 29\u001b[0m\n\u001b[1;32m     17\u001b[0m     cfg \u001b[38;5;241m=\u001b[39m {\n\u001b[1;32m     18\u001b[0m         \u001b[38;5;66;03m# \"varname\": \"b_scat\",\u001b[39;00m\n\u001b[1;32m     19\u001b[0m         \u001b[38;5;66;03m# # \"var_cfg\": {\"wvl_grid\": [550e-9], \"rh_grid\": np.linspace(0.,100.,21)},  # simple case: single x\u001b[39;00m\n\u001b[0;32m   (...)\u001b[0m\n\u001b[1;32m     26\u001b[0m         \u001b[38;5;124m\"\u001b[39m\u001b[38;5;124mstyle\u001b[39m\u001b[38;5;124m\"\u001b[39m: line_styles[s[\u001b[38;5;124m\"\u001b[39m\u001b[38;5;124mkey\u001b[39m\u001b[38;5;124m\"\u001b[39m]],\n\u001b[1;32m     27\u001b[0m     }\n\u001b[1;32m     28\u001b[0m     plotter \u001b[38;5;241m=\u001b[39m build_plotter(\u001b[38;5;124m\"\u001b[39m\u001b[38;5;124mstate_line\u001b[39m\u001b[38;5;124m\"\u001b[39m, cfg)\n\u001b[0;32m---> 29\u001b[0m     \u001b[43mplotter\u001b[49m\u001b[38;5;241;43m.\u001b[39;49m\u001b[43mplot\u001b[49m\u001b[43m(\u001b[49m\u001b[43ms\u001b[49m\u001b[43m[\u001b[49m\u001b[38;5;124;43m\"\u001b[39;49m\u001b[38;5;124;43mpopulation\u001b[39;49m\u001b[38;5;124;43m\"\u001b[39;49m\u001b[43m]\u001b[49m\u001b[43m,\u001b[49m\u001b[43m \u001b[49m\u001b[43max\u001b[49m\u001b[43m,\u001b[49m\u001b[43m \u001b[49m\u001b[43mlabel\u001b[49m\u001b[38;5;241;43m=\u001b[39;49m\u001b[43ms\u001b[49m\u001b[43m[\u001b[49m\u001b[38;5;124;43m\"\u001b[39;49m\u001b[38;5;124;43mlabel\u001b[39;49m\u001b[38;5;124;43m\"\u001b[39;49m\u001b[43m]\u001b[49m\u001b[43m)\u001b[49m\n\u001b[1;32m     30\u001b[0m ax\u001b[38;5;241m.\u001b[39mlegend(); fig\u001b[38;5;241m.\u001b[39mtight_layout()\n",
      "File \u001b[0;32m~/Library/CloudStorage/OneDrive-PNNL/Code/PyParticle/src/PyParticle/viz/factory/state_line.py:69\u001b[0m, in \u001b[0;36mStateLinePlotter.plot\u001b[0;34m(self, population, ax, **kwargs)\u001b[0m\n\u001b[1;32m     67\u001b[0m     ax\u001b[38;5;241m.\u001b[39mplot(pd[\u001b[38;5;124m\"\u001b[39m\u001b[38;5;124my\u001b[39m\u001b[38;5;124m\"\u001b[39m], \u001b[38;5;241m*\u001b[39m\u001b[38;5;241m*\u001b[39mstyle)\n\u001b[1;32m     68\u001b[0m \u001b[38;5;28;01melse\u001b[39;00m:\n\u001b[0;32m---> 69\u001b[0m     \u001b[43max\u001b[49m\u001b[38;5;241;43m.\u001b[39;49m\u001b[43mplot\u001b[49m\u001b[43m(\u001b[49m\u001b[43mpd\u001b[49m\u001b[43m[\u001b[49m\u001b[38;5;124;43m\"\u001b[39;49m\u001b[38;5;124;43mx\u001b[39;49m\u001b[38;5;124;43m\"\u001b[39;49m\u001b[43m]\u001b[49m\u001b[43m,\u001b[49m\u001b[43m \u001b[49m\u001b[43mpd\u001b[49m\u001b[43m[\u001b[49m\u001b[38;5;124;43m\"\u001b[39;49m\u001b[38;5;124;43my\u001b[39;49m\u001b[38;5;124;43m\"\u001b[39;49m\u001b[43m]\u001b[49m\u001b[43m,\u001b[49m\u001b[43m \u001b[49m\u001b[38;5;241;43m*\u001b[39;49m\u001b[38;5;241;43m*\u001b[39;49m\u001b[43mstyle\u001b[49m\u001b[43m)\u001b[49m\n\u001b[1;32m     70\u001b[0m ax\u001b[38;5;241m.\u001b[39mset_xlabel(pd[\u001b[38;5;124m\"\u001b[39m\u001b[38;5;124mxlabel\u001b[39m\u001b[38;5;124m\"\u001b[39m]); ax\u001b[38;5;241m.\u001b[39mset_ylabel(pd[\u001b[38;5;124m\"\u001b[39m\u001b[38;5;124mylabel\u001b[39m\u001b[38;5;124m\"\u001b[39m])\n\u001b[1;32m     71\u001b[0m ax\u001b[38;5;241m.\u001b[39mset_xscale(pd[\u001b[38;5;124m\"\u001b[39m\u001b[38;5;124mxscale\u001b[39m\u001b[38;5;124m\"\u001b[39m]); ax\u001b[38;5;241m.\u001b[39mset_yscale(pd[\u001b[38;5;124m\"\u001b[39m\u001b[38;5;124myscale\u001b[39m\u001b[38;5;124m\"\u001b[39m])\n",
      "File \u001b[0;32m~/miniforge3/envs/pyparticle-partmc/lib/python3.9/site-packages/matplotlib/axes/_axes.py:1779\u001b[0m, in \u001b[0;36mAxes.plot\u001b[0;34m(self, scalex, scaley, data, *args, **kwargs)\u001b[0m\n\u001b[1;32m   1536\u001b[0m \u001b[38;5;250m\u001b[39m\u001b[38;5;124;03m\"\"\"\u001b[39;00m\n\u001b[1;32m   1537\u001b[0m \u001b[38;5;124;03mPlot y versus x as lines and/or markers.\u001b[39;00m\n\u001b[1;32m   1538\u001b[0m \n\u001b[0;32m   (...)\u001b[0m\n\u001b[1;32m   1776\u001b[0m \u001b[38;5;124;03m(``'green'``) or hex strings (``'#008000'``).\u001b[39;00m\n\u001b[1;32m   1777\u001b[0m \u001b[38;5;124;03m\"\"\"\u001b[39;00m\n\u001b[1;32m   1778\u001b[0m kwargs \u001b[38;5;241m=\u001b[39m cbook\u001b[38;5;241m.\u001b[39mnormalize_kwargs(kwargs, mlines\u001b[38;5;241m.\u001b[39mLine2D)\n\u001b[0;32m-> 1779\u001b[0m lines \u001b[38;5;241m=\u001b[39m [\u001b[38;5;241m*\u001b[39m\u001b[38;5;28mself\u001b[39m\u001b[38;5;241m.\u001b[39m_get_lines(\u001b[38;5;28mself\u001b[39m, \u001b[38;5;241m*\u001b[39margs, data\u001b[38;5;241m=\u001b[39mdata, \u001b[38;5;241m*\u001b[39m\u001b[38;5;241m*\u001b[39mkwargs)]\n\u001b[1;32m   1780\u001b[0m \u001b[38;5;28;01mfor\u001b[39;00m line \u001b[38;5;129;01min\u001b[39;00m lines:\n\u001b[1;32m   1781\u001b[0m     \u001b[38;5;28mself\u001b[39m\u001b[38;5;241m.\u001b[39madd_line(line)\n",
      "File \u001b[0;32m~/miniforge3/envs/pyparticle-partmc/lib/python3.9/site-packages/matplotlib/axes/_base.py:296\u001b[0m, in \u001b[0;36m_process_plot_var_args.__call__\u001b[0;34m(self, axes, data, *args, **kwargs)\u001b[0m\n\u001b[1;32m    294\u001b[0m     this \u001b[38;5;241m+\u001b[39m\u001b[38;5;241m=\u001b[39m args[\u001b[38;5;241m0\u001b[39m],\n\u001b[1;32m    295\u001b[0m     args \u001b[38;5;241m=\u001b[39m args[\u001b[38;5;241m1\u001b[39m:]\n\u001b[0;32m--> 296\u001b[0m \u001b[38;5;28;01myield from\u001b[39;00m \u001b[38;5;28;43mself\u001b[39;49m\u001b[38;5;241;43m.\u001b[39;49m\u001b[43m_plot_args\u001b[49m\u001b[43m(\u001b[49m\n\u001b[1;32m    297\u001b[0m \u001b[43m    \u001b[49m\u001b[43maxes\u001b[49m\u001b[43m,\u001b[49m\u001b[43m \u001b[49m\u001b[43mthis\u001b[49m\u001b[43m,\u001b[49m\u001b[43m \u001b[49m\u001b[43mkwargs\u001b[49m\u001b[43m,\u001b[49m\u001b[43m \u001b[49m\u001b[43mambiguous_fmt_datakey\u001b[49m\u001b[38;5;241;43m=\u001b[39;49m\u001b[43mambiguous_fmt_datakey\u001b[49m\u001b[43m)\u001b[49m\n",
      "File \u001b[0;32m~/miniforge3/envs/pyparticle-partmc/lib/python3.9/site-packages/matplotlib/axes/_base.py:534\u001b[0m, in \u001b[0;36m_process_plot_var_args._plot_args\u001b[0;34m(self, axes, tup, kwargs, return_kwargs, ambiguous_fmt_datakey)\u001b[0m\n\u001b[1;32m    532\u001b[0m     \u001b[38;5;28;01mreturn\u001b[39;00m \u001b[38;5;28mlist\u001b[39m(result)\n\u001b[1;32m    533\u001b[0m \u001b[38;5;28;01melse\u001b[39;00m:\n\u001b[0;32m--> 534\u001b[0m     \u001b[38;5;28;01mreturn\u001b[39;00m [l[\u001b[38;5;241m0\u001b[39m] \u001b[38;5;28;01mfor\u001b[39;00m l \u001b[38;5;129;01min\u001b[39;00m result]\n",
      "File \u001b[0;32m~/miniforge3/envs/pyparticle-partmc/lib/python3.9/site-packages/matplotlib/axes/_base.py:534\u001b[0m, in \u001b[0;36m<listcomp>\u001b[0;34m(.0)\u001b[0m\n\u001b[1;32m    532\u001b[0m     \u001b[38;5;28;01mreturn\u001b[39;00m \u001b[38;5;28mlist\u001b[39m(result)\n\u001b[1;32m    533\u001b[0m \u001b[38;5;28;01melse\u001b[39;00m:\n\u001b[0;32m--> 534\u001b[0m     \u001b[38;5;28;01mreturn\u001b[39;00m [l[\u001b[38;5;241m0\u001b[39m] \u001b[38;5;28;01mfor\u001b[39;00m l \u001b[38;5;129;01min\u001b[39;00m result]\n",
      "File \u001b[0;32m~/miniforge3/envs/pyparticle-partmc/lib/python3.9/site-packages/matplotlib/axes/_base.py:527\u001b[0m, in \u001b[0;36m<genexpr>\u001b[0;34m(.0)\u001b[0m\n\u001b[1;32m    522\u001b[0m \u001b[38;5;28;01melse\u001b[39;00m:\n\u001b[1;32m    523\u001b[0m     \u001b[38;5;28;01mraise\u001b[39;00m \u001b[38;5;167;01mValueError\u001b[39;00m(\n\u001b[1;32m    524\u001b[0m         \u001b[38;5;124mf\u001b[39m\u001b[38;5;124m\"\u001b[39m\u001b[38;5;124mlabel must be scalar or have the same length as the input \u001b[39m\u001b[38;5;124m\"\u001b[39m\n\u001b[1;32m    525\u001b[0m         \u001b[38;5;124mf\u001b[39m\u001b[38;5;124m\"\u001b[39m\u001b[38;5;124mdata, but found \u001b[39m\u001b[38;5;132;01m{\u001b[39;00m\u001b[38;5;28mlen\u001b[39m(label)\u001b[38;5;132;01m}\u001b[39;00m\u001b[38;5;124m for \u001b[39m\u001b[38;5;132;01m{\u001b[39;00mn_datasets\u001b[38;5;132;01m}\u001b[39;00m\u001b[38;5;124m datasets.\u001b[39m\u001b[38;5;124m\"\u001b[39m)\n\u001b[0;32m--> 527\u001b[0m result \u001b[38;5;241m=\u001b[39m (\u001b[43mmake_artist\u001b[49m\u001b[43m(\u001b[49m\u001b[43maxes\u001b[49m\u001b[43m,\u001b[49m\u001b[43m \u001b[49m\u001b[43mx\u001b[49m\u001b[43m[\u001b[49m\u001b[43m:\u001b[49m\u001b[43m,\u001b[49m\u001b[43m \u001b[49m\u001b[43mj\u001b[49m\u001b[43m \u001b[49m\u001b[38;5;241;43m%\u001b[39;49m\u001b[43m \u001b[49m\u001b[43mncx\u001b[49m\u001b[43m]\u001b[49m\u001b[43m,\u001b[49m\u001b[43m \u001b[49m\u001b[43my\u001b[49m\u001b[43m[\u001b[49m\u001b[43m:\u001b[49m\u001b[43m,\u001b[49m\u001b[43m \u001b[49m\u001b[43mj\u001b[49m\u001b[43m \u001b[49m\u001b[38;5;241;43m%\u001b[39;49m\u001b[43m \u001b[49m\u001b[43mncy\u001b[49m\u001b[43m]\u001b[49m\u001b[43m,\u001b[49m\u001b[43m \u001b[49m\u001b[43mkw\u001b[49m\u001b[43m,\u001b[49m\n\u001b[1;32m    528\u001b[0m \u001b[43m                      \u001b[49m\u001b[43m{\u001b[49m\u001b[38;5;241;43m*\u001b[39;49m\u001b[38;5;241;43m*\u001b[39;49m\u001b[43mkwargs\u001b[49m\u001b[43m,\u001b[49m\u001b[43m \u001b[49m\u001b[38;5;124;43m'\u001b[39;49m\u001b[38;5;124;43mlabel\u001b[39;49m\u001b[38;5;124;43m'\u001b[39;49m\u001b[43m:\u001b[49m\u001b[43m \u001b[49m\u001b[43mlabel\u001b[49m\u001b[43m}\u001b[49m\u001b[43m)\u001b[49m\n\u001b[1;32m    529\u001b[0m           \u001b[38;5;28;01mfor\u001b[39;00m j, label \u001b[38;5;129;01min\u001b[39;00m \u001b[38;5;28menumerate\u001b[39m(labels))\n\u001b[1;32m    531\u001b[0m \u001b[38;5;28;01mif\u001b[39;00m return_kwargs:\n\u001b[1;32m    532\u001b[0m     \u001b[38;5;28;01mreturn\u001b[39;00m \u001b[38;5;28mlist\u001b[39m(result)\n",
      "File \u001b[0;32m~/miniforge3/envs/pyparticle-partmc/lib/python3.9/site-packages/matplotlib/axes/_base.py:335\u001b[0m, in \u001b[0;36m_process_plot_var_args._makeline\u001b[0;34m(self, axes, x, y, kw, kwargs)\u001b[0m\n\u001b[1;32m    333\u001b[0m kw \u001b[38;5;241m=\u001b[39m {\u001b[38;5;241m*\u001b[39m\u001b[38;5;241m*\u001b[39mkw, \u001b[38;5;241m*\u001b[39m\u001b[38;5;241m*\u001b[39mkwargs}  \u001b[38;5;66;03m# Don't modify the original kw.\u001b[39;00m\n\u001b[1;32m    334\u001b[0m \u001b[38;5;28mself\u001b[39m\u001b[38;5;241m.\u001b[39m_setdefaults(\u001b[38;5;28mself\u001b[39m\u001b[38;5;241m.\u001b[39m_getdefaults(kw), kw)\n\u001b[0;32m--> 335\u001b[0m seg \u001b[38;5;241m=\u001b[39m \u001b[43mmlines\u001b[49m\u001b[38;5;241;43m.\u001b[39;49m\u001b[43mLine2D\u001b[49m\u001b[43m(\u001b[49m\u001b[43mx\u001b[49m\u001b[43m,\u001b[49m\u001b[43m \u001b[49m\u001b[43my\u001b[49m\u001b[43m,\u001b[49m\u001b[43m \u001b[49m\u001b[38;5;241;43m*\u001b[39;49m\u001b[38;5;241;43m*\u001b[39;49m\u001b[43mkw\u001b[49m\u001b[43m)\u001b[49m\n\u001b[1;32m    336\u001b[0m \u001b[38;5;28;01mreturn\u001b[39;00m seg, kw\n",
      "File \u001b[0;32m~/miniforge3/envs/pyparticle-partmc/lib/python3.9/site-packages/matplotlib/lines.py:407\u001b[0m, in \u001b[0;36mLine2D.__init__\u001b[0;34m(self, xdata, ydata, linewidth, linestyle, color, gapcolor, marker, markersize, markeredgewidth, markeredgecolor, markerfacecolor, markerfacecoloralt, fillstyle, antialiased, dash_capstyle, solid_capstyle, dash_joinstyle, solid_joinstyle, pickradius, drawstyle, markevery, **kwargs)\u001b[0m\n\u001b[1;32m    403\u001b[0m \u001b[38;5;28mself\u001b[39m\u001b[38;5;241m.\u001b[39mset_markeredgewidth(markeredgewidth)\n\u001b[1;32m    405\u001b[0m \u001b[38;5;66;03m# update kwargs before updating data to give the caller a\u001b[39;00m\n\u001b[1;32m    406\u001b[0m \u001b[38;5;66;03m# chance to init axes (and hence unit support)\u001b[39;00m\n\u001b[0;32m--> 407\u001b[0m \u001b[38;5;28;43mself\u001b[39;49m\u001b[38;5;241;43m.\u001b[39;49m\u001b[43m_internal_update\u001b[49m\u001b[43m(\u001b[49m\u001b[43mkwargs\u001b[49m\u001b[43m)\u001b[49m\n\u001b[1;32m    408\u001b[0m \u001b[38;5;28mself\u001b[39m\u001b[38;5;241m.\u001b[39mpickradius \u001b[38;5;241m=\u001b[39m pickradius\n\u001b[1;32m    409\u001b[0m \u001b[38;5;28mself\u001b[39m\u001b[38;5;241m.\u001b[39mind_offset \u001b[38;5;241m=\u001b[39m \u001b[38;5;241m0\u001b[39m\n",
      "File \u001b[0;32m~/miniforge3/envs/pyparticle-partmc/lib/python3.9/site-packages/matplotlib/artist.py:1216\u001b[0m, in \u001b[0;36mArtist._internal_update\u001b[0;34m(self, kwargs)\u001b[0m\n\u001b[1;32m   1209\u001b[0m \u001b[38;5;28;01mdef\u001b[39;00m\u001b[38;5;250m \u001b[39m\u001b[38;5;21m_internal_update\u001b[39m(\u001b[38;5;28mself\u001b[39m, kwargs):\n\u001b[1;32m   1210\u001b[0m \u001b[38;5;250m    \u001b[39m\u001b[38;5;124;03m\"\"\"\u001b[39;00m\n\u001b[1;32m   1211\u001b[0m \u001b[38;5;124;03m    Update artist properties without prenormalizing them, but generating\u001b[39;00m\n\u001b[1;32m   1212\u001b[0m \u001b[38;5;124;03m    errors as if calling `set`.\u001b[39;00m\n\u001b[1;32m   1213\u001b[0m \n\u001b[1;32m   1214\u001b[0m \u001b[38;5;124;03m    The lack of prenormalization is to maintain backcompatibility.\u001b[39;00m\n\u001b[1;32m   1215\u001b[0m \u001b[38;5;124;03m    \"\"\"\u001b[39;00m\n\u001b[0;32m-> 1216\u001b[0m     \u001b[38;5;28;01mreturn\u001b[39;00m \u001b[38;5;28;43mself\u001b[39;49m\u001b[38;5;241;43m.\u001b[39;49m\u001b[43m_update_props\u001b[49m\u001b[43m(\u001b[49m\n\u001b[1;32m   1217\u001b[0m \u001b[43m        \u001b[49m\u001b[43mkwargs\u001b[49m\u001b[43m,\u001b[49m\u001b[43m \u001b[49m\u001b[38;5;124;43m\"\u001b[39;49m\u001b[38;5;132;43;01m{cls.__name__}\u001b[39;49;00m\u001b[38;5;124;43m.set() got an unexpected keyword argument \u001b[39;49m\u001b[38;5;124;43m\"\u001b[39;49m\n\u001b[1;32m   1218\u001b[0m \u001b[43m        \u001b[49m\u001b[38;5;124;43m\"\u001b[39;49m\u001b[38;5;132;43;01m{prop_name!r}\u001b[39;49;00m\u001b[38;5;124;43m\"\u001b[39;49m\u001b[43m)\u001b[49m\n",
      "File \u001b[0;32m~/miniforge3/envs/pyparticle-partmc/lib/python3.9/site-packages/matplotlib/artist.py:1190\u001b[0m, in \u001b[0;36mArtist._update_props\u001b[0;34m(self, props, errfmt)\u001b[0m\n\u001b[1;32m   1188\u001b[0m             func \u001b[38;5;241m=\u001b[39m \u001b[38;5;28mgetattr\u001b[39m(\u001b[38;5;28mself\u001b[39m, \u001b[38;5;124mf\u001b[39m\u001b[38;5;124m\"\u001b[39m\u001b[38;5;124mset_\u001b[39m\u001b[38;5;132;01m{\u001b[39;00mk\u001b[38;5;132;01m}\u001b[39;00m\u001b[38;5;124m\"\u001b[39m, \u001b[38;5;28;01mNone\u001b[39;00m)\n\u001b[1;32m   1189\u001b[0m             \u001b[38;5;28;01mif\u001b[39;00m \u001b[38;5;129;01mnot\u001b[39;00m \u001b[38;5;28mcallable\u001b[39m(func):\n\u001b[0;32m-> 1190\u001b[0m                 \u001b[38;5;28;01mraise\u001b[39;00m \u001b[38;5;167;01mAttributeError\u001b[39;00m(\n\u001b[1;32m   1191\u001b[0m                     errfmt\u001b[38;5;241m.\u001b[39mformat(\u001b[38;5;28mcls\u001b[39m\u001b[38;5;241m=\u001b[39m\u001b[38;5;28mtype\u001b[39m(\u001b[38;5;28mself\u001b[39m), prop_name\u001b[38;5;241m=\u001b[39mk))\n\u001b[1;32m   1192\u001b[0m             ret\u001b[38;5;241m.\u001b[39mappend(func(v))\n\u001b[1;32m   1193\u001b[0m \u001b[38;5;28;01mif\u001b[39;00m ret:\n",
      "\u001b[0;31mAttributeError\u001b[0m: Line2D.set() got an unexpected keyword argument 'cmap'"
     ]
    },
    {
     "data": {
      "image/png": "[encoded data removed]",
      "text/plain": [
       "<Figure size 640x480 with 1 Axes>"
      ]
     },
     "metadata": {},
     "output_type": "display_data"
    }
   ],
   "source": [
    "from PyParticle.viz.style import StyleManager, Theme\n",
    "from PyParticle.viz.builder import build_plotter\n",
    "import matplotlib.pyplot as plt\n",
    "import numpy as np\n",
    "series = [\n",
    "    {\"key\": \"50\", \"population\": pop_50nm, \"label\": \"$\\mu=50$ nm\"},\n",
    "    {\"key\": \"250\", \"population\": pop_250nm, \"label\": \"$\\mu=250$ nm\"},\n",
    "]\n",
    "\n",
    "mgr = StyleManager(Theme(), deterministic=True)\n",
    "\n",
    "# Lines\n",
    "line_styles = mgr.plan(\"line\", [s[\"key\"] for s in series])\n",
    "\n",
    "fig, ax = plt.subplots()\n",
    "for s in series:\n",
    "    cfg = {\n",
    "        # \"varname\": \"b_scat\",\n",
    "        # # \"var_cfg\": {\"wvl_grid\": [550e-9], \"rh_grid\": np.linspace(0.,100.,21)},  # simple case: single x\n",
    "        # \"var_cfg\": {\"wvl_grid\": np.linspace(350e-9,1050e-9,29), \"rh_grid\": [0.]},  # simple case: single x\n",
    "        # \"style\": line_styles[s[\"key\"]],\n",
    "\n",
    "        \"varname\": \"Nccn\",\n",
    "        # \"var_cfg\": {\"wvl_grid\": [550e-9], \"rh_grid\": np.linspace(0.,100.,21)},  # simple case: single x\n",
    "        #\"var_cfg\": {\"wvl_grid\": np.linspace(350e-9,1050e-9,29), \"rh_grid\": [0.]},  # simple case: single x\n",
    "        \"style\": line_styles[s[\"key\"]],\n",
    "    }\n",
    "    plotter = build_plotter(\"state_line\", cfg)\n",
    "    plotter.plot(s[\"population\"], ax, label=s[\"label\"])\n",
    "ax.legend(); fig.tight_layout()"
   ]
  },
  {
   "cell_type": "code",
   "execution_count": null,
   "id": "fcac6eaa",
   "metadata": {},
   "outputs": [],
   "source": [
    "from .helpers.pymiescatt_comparison import pymiescatt_lognormal_optics\n",
    "\n",
    "mgr = StyleManager(Theme(), deterministic=True)\n",
    "\n",
    "# Lines\n",
    "line_styles = mgr.plan(\"line\", [s[\"key\"] for s in series])\n",
    "\n",
    "fig, ax = plt.subplots()\n",
    "for s in series:\n",
    "    cfg = {\n",
    "        \"varname\": \"b_scat\",\n",
    "        \"var_cfg\": {\"wvl_grid\": np.linspace(350e-9,1050e-9,29), \"rh_grid\": [0.]},  # simple case: single x\n",
    "        \"style\": line_styles[s[\"key\"]],\n",
    "    }\n",
    "    plotter = build_plotter(\"state_line\", cfg)\n",
    "    plotter.plot(s[\"population\"], ax, label=s[\"label\"])\n",
    "\n",
    "    pymiescatt_lognormal_optics(s[\"population\"].cfg, cfg.get('var_cfg'),linesteyle='--',color=line_styles[s[\"key\"]]['color'])\n",
    "ax.legend(); fig.tight_layout()"
   ]
  },
  {
   "cell_type": "code",
   "execution_count": null,
   "id": "efb404ba",
   "metadata": {},
   "outputs": [],
   "source": []
  }
 ],
 "metadata": {
  "kernelspec": {
   "display_name": "pyparticle-partmc",
   "language": "python",
   "name": "python3"
  },
  "language_info": {
   "codemirror_mode": {
    "name": "ipython",
    "version": 3
   },
   "file_extension": ".py",
   "mimetype": "text/x-python",
   "name": "python",
   "nbconvert_exporter": "python",
   "pygments_lexer": "ipython3",
   "version": "3.9.23"
  }
 },
 "nbformat": 4,
 "nbformat_minor": 5
}
